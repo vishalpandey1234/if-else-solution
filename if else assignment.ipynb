{
 "cells": [
  {
   "cell_type": "raw",
   "id": "1a149e64-4161-42e1-b2a8-d4f40cc923d1",
   "metadata": {},
   "source": [
    "Q1. Write a program to calculate the electricity bill using only if statement? (accept number of unit from user) according to the following criteria:\n",
    "\n",
    "Unit                                                                                        Price\n",
    "First 100 units                                                                             no charge\n",
    "Next 100 units                                                                              Rs 5 per unit\n",
    "After 200 units                                                                             Rs 10 per unit\n",
    "(For example, if input unit is 350 than total bill amount is Rs2000). Lets explain...\n",
    "For first 100 no charges\n",
    "Now you have 250 unit remaining\n",
    "100-200 you need to pay – 100*5 = 500\n",
    "Now 200-100 you need to pay 150*10 = 1500\n",
    "Total = 500+1500 = 2000"
   ]
  },
  {
   "cell_type": "code",
   "execution_count": 3,
   "id": "f4f9ccd8-f086-4a31-9cb0-826c6c8174d3",
   "metadata": {},
   "outputs": [
    {
     "name": "stdin",
     "output_type": "stream",
     "text": [
      "enter user unit 860\n"
     ]
    },
    {
     "name": "stdout",
     "output_type": "stream",
     "text": [
      "total electricity is :₹ 7100\n"
     ]
    }
   ],
   "source": [
    "user_unit= int(input(\"enter user unit\"))\n",
    "bill = 0\n",
    "if user_unit > 100:\n",
    "    if user_unit >200:\n",
    "        bill += (user_unit-200)*10\n",
    "        bill+= 100*5\n",
    "    else:\n",
    "        bill+=(user_unit-100)*5\n",
    "        \n",
    "print(\"total electricity is :₹\",bill)"
   ]
  },
  {
   "cell_type": "raw",
   "id": "3adf5020-c0a5-41bf-8da9-14ba16856aae",
   "metadata": {},
   "source": [
    "Q.2 Write a program to accept percentage from the user and display the grade according to the following criteria:\n",
    "\n",
    "Marks                       Grade\n",
    "> 90                          A\n",
    "> 80 and <= 90                B\n",
    ">= 60 and <= 80               C\n",
    "below 60                      D\"\"\""
   ]
  },
  {
   "cell_type": "code",
   "execution_count": 13,
   "id": "f2b3e4a2-6602-4069-90ef-371d40f634e2",
   "metadata": {},
   "outputs": [
    {
     "name": "stdin",
     "output_type": "stream",
     "text": [
      "enter your percentage -3\n"
     ]
    },
    {
     "name": "stdout",
     "output_type": "stream",
     "text": [
      "invalid input\n"
     ]
    }
   ],
   "source": [
    "# accept precentage from user \n",
    "percentage =float (input(\"enter your percentage\"))\n",
    "if percentage <0:\n",
    "    print(\"invalid input\")\n",
    "elif percentage>100:\n",
    "    print(\"invalid input\")\n",
    "elif percentage >90:\n",
    "    print(\"grade: A\")\n",
    "    \n",
    "elif percentage> 80 and percentage <=90:\n",
    "    print(\"grade: B\") \n",
    "    \n",
    "elif percentage >=60 and percentage <=80:\n",
    "    print(\"grade: C\")\n",
    "    \n",
    "else:\n",
    "    print(\"grade: D\")\n"
   ]
  },
  {
   "cell_type": "markdown",
   "id": "eec336f5-3a26-44a5-9a3d-7b6523744f1b",
   "metadata": {},
   "source": [
    "# Q3. Accept the age of 4 people and display the youngest one?"
   ]
  },
  {
   "cell_type": "code",
   "execution_count": 40,
   "id": "6db9e818-8c75-45a1-a95b-9cf383430225",
   "metadata": {},
   "outputs": [
    {
     "name": "stdin",
     "output_type": "stream",
     "text": [
      "enter age of first person :  77\n",
      "enter age of second person:  45\n",
      "enter age of third person:  8\n",
      "enter age of fourth person:  5\n"
     ]
    },
    {
     "name": "stdout",
     "output_type": "stream",
     "text": [
      "The youngest age is: 5\n"
     ]
    }
   ],
   "source": [
    "age1=int(input(\"enter age of first person : \"))\n",
    "age2=int(input(\"enter age of second person: \"))\n",
    "age3=int(input(\"enter age of third person: \"))\n",
    "age4=int(input(\"enter age of fourth person: \"))\n",
    "youngest = min(age1, age2, age3, age4 )\n",
    "print(\"The youngest age is:\",youngest)"
   ]
  },
  {
   "cell_type": "raw",
   "id": "a65e8ecb-5425-46fc-b222-a34639996a95",
   "metadata": {},
   "source": [
    "Q4.  A company decided to give bonus to employee according to following criteria:\n",
    "\n",
    "Time period of Service            Bonus\n",
    "\n",
    "More than 10 years                 10%\n",
    "\n",
    ">=6 and <=10                        8%\n",
    "\n",
    "Less than 6 years                   5%\n",
    "\n",
    "Ask user for their salary and years of service and print the\n",
    "net bonus amount?"
   ]
  },
  {
   "cell_type": "code",
   "execution_count": 60,
   "id": "7bee13b7-69c1-4f7a-9c0a-15bbaf45f619",
   "metadata": {},
   "outputs": [
    {
     "name": "stdin",
     "output_type": "stream",
     "text": [
      "enter your salary: 500000\n",
      "enter your years of service: 7\n"
     ]
    },
    {
     "name": "stdout",
     "output_type": "stream",
     "text": [
      "your bonus amount is : 40000.0\n"
     ]
    }
   ],
   "source": [
    "salary= float(input(\"enter your salary:\"))\n",
    "years_of_service=int(input(\"enter your years of service:\"))\n",
    "if years_of_service>10:\n",
    "    bonus_percentage=10\n",
    "elif years_of_service >=6 and years_of_service <=10:\n",
    "    bonus_percentage=8\n",
    "else:\n",
    "    bonus_percentage=5\n",
    "bonus_amount=(bonus_percentage/100)*salary\n",
    "print(\"your bonus amount is :\",bonus_amount)"
   ]
  },
  {
   "cell_type": "markdown",
   "id": "0d4817ba-648c-4760-99ec-3d01851e671d",
   "metadata": {},
   "source": [
    "# Q5. Accept three numbers from the user and display the second largest number?\n"
   ]
  },
  {
   "cell_type": "code",
   "execution_count": null,
   "id": "4697bea7-9470-47c6-bcbd-80acc6cd7569",
   "metadata": {},
   "outputs": [
    {
     "name": "stdin",
     "output_type": "stream",
     "text": [
      "Enter first number:  20\n",
      "Enter second number:  2512\n"
     ]
    }
   ],
   "source": [
    "## A = int(input(\"Enter first number: \"))\n",
    "B = int(input(\"Enter second number: \"))\n",
    "C = int(input(\"Enter third number: \"))\n",
    "second_largest = a\n",
    "if (a > b and a < c) or (a > c and a < b):\n",
    "    second_largest = a\n",
    "elif (b > a and b < c) or (b > c and b < a):\n",
    "    second_largest = b\n",
    "else:\n",
    "    second_largest = c\n",
    "\n",
    "print(\"The second largest number is:\",second_largest)"
   ]
  },
  {
   "cell_type": "raw",
   "id": "dce69bb1-b501-47ad-9ae9-d49ccb6ef160",
   "metadata": {},
   "source": [
    "Q6. Accept the marked price from the user and calculate the Net amount as (Marked Price – Discount) to pay according to following criteria:\n",
    "\n",
    "Marked Price                  Discount\n",
    ">10000                           20%\n",
    ">7000 and <=10000                15%\n",
    "<=7000                           10%"
   ]
  },
  {
   "cell_type": "code",
   "execution_count": 30,
   "id": "55958df6-79dc-4c45-918f-5aa215b2b53d",
   "metadata": {},
   "outputs": [
    {
     "name": "stdin",
     "output_type": "stream",
     "text": [
      "enter your marked_price: 12000\n"
     ]
    },
    {
     "name": "stdout",
     "output_type": "stream",
     "text": [
      "Marked Price: ₹12000.0\n",
      "Discount Applied: ₹2400.0\n",
      "Net Amount to Pay: ₹9600.0\n"
     ]
    }
   ],
   "source": [
    "marked_price=float(input(\"enter your marked_price:\"))\n",
    "\n",
    "if marked_price>10000:\n",
    "    discount_rate=0.20\n",
    "    \n",
    "elif marked_price>7000 and marked_price<10000:\n",
    "    discount_rate=0.15\n",
    "    \n",
    "else:\n",
    "    discount_rate=0.10\n",
    "    \n",
    "discount = marked_price * discount_rate \n",
    "\n",
    "net_amount = marked_price-discount\n",
    "\n",
    "print(f\"Marked Price: ₹{marked_price}\")\n",
    "print(f\"Discount Applied: ₹{discount}\")\n",
    "print(f\"Net Amount to Pay: ₹{net_amount}\") "
   ]
  },
  {
   "cell_type": "raw",
   "id": "e159f0ab-1731-4ff2-9ba7-e0730341b46b",
   "metadata": {},
   "source": [
    "Q7. Accept the marks of English, Math and Science, Social Studies Subject and display the stream allotted according to following:\n",
    "\n",
    "All Subjects more than 80 marks —            Science Stream\n",
    "\n",
    "English >80 and Math, Science above 50 —     Commerce Stream\n",
    "\n",
    "English > 80 and social studies > 80 —       Humanities"
   ]
  },
  {
   "cell_type": "code",
   "execution_count": 7,
   "id": "cee942cc-0cda-4c6d-a694-7530fd670ab4",
   "metadata": {},
   "outputs": [
    {
     "name": "stdin",
     "output_type": "stream",
     "text": [
      "enter your marks in english 104\n",
      "enter your marks in maths 200\n",
      "enter your marks in science 304\n",
      "enter your marks in social studies 468\n"
     ]
    },
    {
     "name": "stdout",
     "output_type": "stream",
     "text": [
      "invalid input\n",
      "stream alloted: science stream\n"
     ]
    }
   ],
   "source": [
    "english_marks= int(input(\"enter your marks in english\"))\n",
    "maths_marks=int(input(\"enter your marks in maths\"))\n",
    "science_marks=int(input(\"enter your marks in science\"))\n",
    "social_studies_marks=int(input(\"enter your marks in social studies\"))\n",
    "if english_marks>100 and maths_marks>100 and science_marks>100 and social_studies_marks>100:\n",
    "    print(\"invalid input\")\n",
    "if english_marks>80 and maths_marks>80 and science_marks>80 and social_studies_marks>80:\n",
    "    print (\"stream alloted: science stream\")\n",
    "\n",
    "elif english_marks>80 and maths_marks>80 and science_marks>50:\n",
    "    print (\"stream alloted: commerce stream\")\n",
    "\n",
    "else:\n",
    "    print(\"stream alloted: humanities stream\")"
   ]
  },
  {
   "cell_type": "raw",
   "id": "cdfa6dc8-5372-44d0-aa2b-690e9e2c4fb9",
   "metadata": {},
   "source": [
    "Q8. Write a program to display \"Hello\" if a number entered by user is a multiple of five, otherwise print \"Bye\"?"
   ]
  },
  {
   "cell_type": "code",
   "execution_count": 45,
   "id": "fec05c58-300c-4dfc-9336-0a0c28bb3663",
   "metadata": {},
   "outputs": [
    {
     "name": "stdin",
     "output_type": "stream",
     "text": [
      "enter user_number 67\n"
     ]
    },
    {
     "name": "stdout",
     "output_type": "stream",
     "text": [
      "bye\n"
     ]
    }
   ],
   "source": [
    "user_number=int(input(\"enter user_number\"))\n",
    "if user_number %5==0:\n",
    "    print(\"hello\")\n",
    "else:\n",
    "    print(\"bye\")"
   ]
  },
  {
   "cell_type": "raw",
   "id": "14a84322-1975-4e2f-9918-4a751ebde1a3",
   "metadata": {},
   "source": [
    "Q9. Write a program to check whether the last digit of a number (entered by user) is divisible by 3 or not?"
   ]
  },
  {
   "cell_type": "code",
   "execution_count": 55,
   "id": "0ce36364-9de8-4229-b429-4e657744f5c2",
   "metadata": {},
   "outputs": [
    {
     "name": "stdin",
     "output_type": "stream",
     "text": [
      "enter number 66464776\n"
     ]
    },
    {
     "name": "stdout",
     "output_type": "stream",
     "text": [
      "last_digit is divisible by 3\n"
     ]
    }
   ],
   "source": [
    "num=int(input(\"enter number\"))\n",
    "last_digit= num%10\n",
    "if last_digit %3==0:\n",
    "    print(\"last_digit is divisible by 3\")\n",
    "else:\n",
    "    print(\"last_digit is not divisible bt 3\")\n"
   ]
  },
  {
   "cell_type": "raw",
   "id": "82ecb0a3-c8bb-409d-a909-0938f6441338",
   "metadata": {},
   "source": [
    "Q10. Write a program to check whether a number entered is three-digit number or not?"
   ]
  },
  {
   "cell_type": "code",
   "execution_count": 63,
   "id": "79e04fce-40d9-4b06-8c1d-140011f52547",
   "metadata": {},
   "outputs": [
    {
     "name": "stdin",
     "output_type": "stream",
     "text": [
      "enter a number 555\n"
     ]
    },
    {
     "name": "stdout",
     "output_type": "stream",
     "text": [
      "this is three digit number\n"
     ]
    }
   ],
   "source": [
    "num = int(input(\"enter a number\"))\n",
    "if 100 <= abs(num) <= 999:\n",
    "    print(\"this is three digit number\")\n",
    "else:\n",
    "    print(\"this is not three digit number\")"
   ]
  },
  {
   "cell_type": "code",
   "execution_count": 56,
   "id": "1528f96b-2649-4c79-a006-98b8f0fb9429",
   "metadata": {},
   "outputs": [
    {
     "name": "stdin",
     "output_type": "stream",
     "text": [
      "enter your first number 40\n",
      "enter your second number 60\n",
      "enter your third number 30\n"
     ]
    },
    {
     "name": "stdout",
     "output_type": "stream",
     "text": [
      "second_largest number is : 30\n"
     ]
    }
   ],
   "source": [
    "a= int(input(\"enter your first number\"))\n",
    "b= int(input(\"enter your second number\"))\n",
    "c= int(input(\"enter your third number\"))\n",
    "\n",
    "if a>b and a<c:\n",
    "    second_largest=a\n",
    "elif b>c and b<a:\n",
    "    second_largest=b\n",
    "else:\n",
    "    second_largest=c\n",
    "print(\"second_largest number is :\",second_largest)"
   ]
  },
  {
   "cell_type": "code",
   "execution_count": null,
   "id": "8ebe2f33-7426-4086-83e4-a60ab8359849",
   "metadata": {},
   "outputs": [],
   "source": []
  }
 ],
 "metadata": {
  "kernelspec": {
   "display_name": "Python [conda env:base] *",
   "language": "python",
   "name": "conda-base-py"
  },
  "language_info": {
   "codemirror_mode": {
    "name": "ipython",
    "version": 3
   },
   "file_extension": ".py",
   "mimetype": "text/x-python",
   "name": "python",
   "nbconvert_exporter": "python",
   "pygments_lexer": "ipython3",
   "version": "3.12.7"
  }
 },
 "nbformat": 4,
 "nbformat_minor": 5
}
